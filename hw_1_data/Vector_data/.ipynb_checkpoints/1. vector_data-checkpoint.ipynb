version https://git-lfs.github.com/spec/v1
oid sha256:9038ce87e93ec7c3b1a1659634e281a040c81c59f7180384f911d89d05ffd335
size 100550
