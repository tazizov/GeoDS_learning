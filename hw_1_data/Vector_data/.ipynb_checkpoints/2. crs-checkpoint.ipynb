version https://git-lfs.github.com/spec/v1
oid sha256:ffcc569ded6d77706fac395f51d6f5c61afaf59a5c8ad6d7a01268af1959f6c1
size 14083
