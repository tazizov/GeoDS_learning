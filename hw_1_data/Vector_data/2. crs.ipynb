version https://git-lfs.github.com/spec/v1
oid sha256:0624f3b6fb5fe2ea831da067ea47b7086af11cb1cd29bdf39e8905eec9ac7c55
size 938564
