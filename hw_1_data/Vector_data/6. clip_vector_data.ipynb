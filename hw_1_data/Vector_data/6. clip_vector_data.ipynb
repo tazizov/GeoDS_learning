version https://git-lfs.github.com/spec/v1
oid sha256:b3ea96f2ba4bd8dd5567096396259034bcd3a341b68b08ccdc3169716085d15e
size 1296043
