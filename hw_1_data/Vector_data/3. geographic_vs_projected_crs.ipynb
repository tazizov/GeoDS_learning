version https://git-lfs.github.com/spec/v1
oid sha256:1dce0c6df3607cb609966257ebf27729b90bdd185724f2da94abcca537b50d33
size 27379
